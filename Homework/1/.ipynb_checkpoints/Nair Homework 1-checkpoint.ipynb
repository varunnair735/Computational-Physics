{
 "cells": [
  {
   "cell_type": "code",
   "execution_count": 229,
   "metadata": {},
   "outputs": [],
   "source": [
    "%precision %g\n",
    "%matplotlib inline\n",
    "%config InlineBackend.figure_format = 'retina'"
   ]
  },
  {
   "cell_type": "code",
   "execution_count": 230,
   "metadata": {},
   "outputs": [],
   "source": [
    "from math import sqrt, pi\n",
    "from cmath import sqrt as csqrt\n",
    "import numpy as np\n",
    "from scipy import constants as C\n",
    "import matplotlib.pyplot as pyplot"
   ]
  },
  {
   "cell_type": "markdown",
   "metadata": {},
   "source": [
    "## CP 2.5 Quantum Potential Step\n",
    "\n",
    "This problem is to find the transmission (T) and reflection (R) probabilities for a given particle (with mass and energy) and potential step based on the wavevector forms of the probabilities:\n",
    "\n",
    "$$T = \\frac{4k_1k_2}{(k_1+k_2)^2} \\ \\textrm{ and } \\ R = \\left( \\frac{k_1-k_2}{k_1+k_2} \\right)^2.$$\n",
    "\n",
    "\n",
    "The wavevectors $k_1$ and $k_2$ are defined in their respective regions as\n",
    "\n",
    "$$k_1 = \\frac{\\sqrt{2mE}}{\\hbar} \\ \\textrm{ and } \\ k_2 = \\frac{\\sqrt{2m(E-V)}}{\\hbar}$$"
   ]
  },
  {
   "cell_type": "code",
   "execution_count": 231,
   "metadata": {},
   "outputs": [],
   "source": [
    "#This cell defines constants\n",
    "\n",
    "h = 6.626e-34 #in kg m^2 s^-1\n",
    "hbar = h / (2*pi)"
   ]
  },
  {
   "cell_type": "code",
   "execution_count": 232,
   "metadata": {},
   "outputs": [],
   "source": [
    "#defines wavevector functions\n",
    "\n",
    "def k1(m, E): #m is mass and E is energy\n",
    "    return (sqrt(2*m*E)) / hbar\n",
    "\n",
    "def k2(m, E, V): #V is height of potential step\n",
    "    return (sqrt(2*m*(E-V))) / hbar\n",
    "\n",
    "\n",
    "#probability functions defined below\n",
    "\n",
    "def T(m, E, V): #transmission probability\n",
    "    num = 4 * k1(m, E) * k2(m, E, V)\n",
    "    den = (k1(m, E) + k2(m, E, V))**2\n",
    "    return num / den\n",
    "\n",
    "def R(m, E, V): #reflection probability\n",
    "    num = k1(m, E) - k2(m, E, V)\n",
    "    den = k1(m, E) + k2(m, E, V)\n",
    "    return (num / den)**2"
   ]
  },
  {
   "cell_type": "code",
   "execution_count": 233,
   "metadata": {},
   "outputs": [
    {
     "name": "stdout",
     "output_type": "stream",
     "text": [
      "For a particle of mass 9.11e-31 kg and energy 10 eV, it will have transmission probability T = 0.730 and reflection probability R = 0.270 if it encounters a potential step of height 9 eV.\n"
     ]
    }
   ],
   "source": [
    "print(\"For a particle of mass 9.11e-31 kg and energy 10 eV, it will have \\\n",
    "transmission probability T = {:4.3f} and \\\n",
    "reflection probability R = {:4.3f} \\\n",
    "if it encounters a potential step of height 9 eV.\".format(T(9.11e-31, 10, 9), R(9.11e-31, 10, 9)))"
   ]
  },
  {
   "cell_type": "markdown",
   "metadata": {},
   "source": [
    "## CP 2.6 Planetary Orbits\n",
    "\n",
    "Knowing the distance that a planet's perihelion and aphelion are from the sun and its linear velocity at one of those points is powerful, allowing one to calculate many facets about the planet's orbit.\n",
    "\n",
    "Among other things, you can calculate the following\n",
    "\n",
    "\\begin{align*}\n",
    "\\textrm{Semi-major axis:} \\qquad a &= {\\tiny\\frac{1}{2}}(\\ell_1+\\ell_2), \\\\\n",
    "\\textrm{Semi-minor axis:} \\qquad b &= \\sqrt{\\ell_1\\ell_2}\\,, \\\\\n",
    "\\textrm{Orbital period:} \\hspace{1.80em}\n",
    "  T &= {2\\pi ab\\over\\ell_1 v_1}\\,, \\\\\n",
    "\\textrm{Orbital eccentricity:} \\qquad e &=\n",
    "  {\\ell_2-\\ell_1\\over\\ell_2+\\ell_1}.\n",
    "\\end{align*}\n"
   ]
  },
  {
   "cell_type": "code",
   "execution_count": 234,
   "metadata": {},
   "outputs": [],
   "source": [
    "#this defines constants\n",
    "\n",
    "M = 1.9891e30 #mass of the sun in kg\n",
    "G = 6.6738e-11 # gravitational constant in m^3 kg^-1 s^-2"
   ]
  },
  {
   "cell_type": "code",
   "execution_count": 235,
   "metadata": {},
   "outputs": [],
   "source": [
    "#defining function to calculate period and eccentricity\n",
    "\n",
    "def findv2(l1, v1):\n",
    "    '''This function calculates the linear velocity of an object at its aphelion given distance and velocity at perihelion \\\n",
    "       by solving the quadratic equation ax**2 + bx + c = 0'''\n",
    "    a = 1\n",
    "    b = (-2*G*M) / (l1 * v1)\n",
    "    c = -(v1**2 - ((2*G*M) / l1))\n",
    "    \n",
    "    #the discriminant in the quadratic equation\n",
    "    disc = b**2 - (4*a*c)\n",
    "    \n",
    "    #only returns 1 solutions because we are only interested in the smaller solution\n",
    "    return (-b - sqrt(disc)) / (2*a)\n",
    "\n",
    "def findl2(l1, v1, v2):\n",
    "    '''Finds distance from Sun to aphelion. Set equal to l2'''\n",
    "    return (l1*v1) / v2\n",
    "\n",
    "def semimajor(l1, l2):\n",
    "    '''Finds semimajor axis of the orbit. Set equal to a.'''\n",
    "    return 0.5 * (l1+l2)\n",
    "\n",
    "def semiminor(l1, l2):\n",
    "    '''Finds semiminor axis of the orbit. Set equal to b.'''\n",
    "    return sqrt(l1*l2)\n",
    "\n",
    "def period(l1, v1, a, b):\n",
    "    '''Find the period of an object orbitting the Sun. Set equal to T.'''\n",
    "    return (2*pi*a*b) / (l1*v1)\n",
    "\n",
    "def eccentricity(l1, l2):\n",
    "    \"\"\"Finds the orbit's eccentricity. Set equal to ecc.\"\"\"\n",
    "    return (l2 - l1) / (l1 + l2)\n",
    "    "
   ]
  },
  {
   "cell_type": "code",
   "execution_count": 236,
   "metadata": {},
   "outputs": [],
   "source": [
    "def process(l1, v1):\n",
    "    '''Puts together individual functions to find period and eccentricity at once'''\n",
    "    v2 = findv2(l1, v1) #units: m/s\n",
    "    l2 = findl2(l1, v1, v2) #units: m\n",
    "    a = semimajor(l1, l2) #units: m\n",
    "    b = semiminor(l1, l2) #units: m\n",
    "    \n",
    "    T = period(l1, v1, a, b) #units: s\n",
    "    years = T / 31536000\n",
    "    ecc = eccentricity(l1, l2)\n",
    "    \n",
    "    output = [l2, v2, years, ecc]\n",
    "    return output"
   ]
  },
  {
   "cell_type": "code",
   "execution_count": 237,
   "metadata": {},
   "outputs": [
    {
     "name": "stdout",
     "output_type": "stream",
     "text": [
      "For the Earth...\n",
      " the distance to the aphelion is 152027197208.660 m \n",
      " velocity is 29305.399 m/s \n",
      " orbital period is 1.00022 years \n",
      " orbital eccentricity is 0.01647\n"
     ]
    }
   ],
   "source": [
    "print(\"For the Earth...\\n the distance to the aphelion is {:5.3f} m \\n velocity is {:5.3f} m/s \\n \\\n",
    "orbital period is {:5.5f} years \\n orbital eccentricity is {:5.5f}\"\\\n",
    "      .format(process(1.4710e11, 3.0287e4)[0],\\\n",
    "             process(1.4710e11, 3.0287e4)[1],\\\n",
    "             process(1.4710e11, 3.0287e4)[2],\\\n",
    "             process(1.4710e11, 3.0287e4)[3])) #Earth's numbers"
   ]
  },
  {
   "cell_type": "code",
   "execution_count": 238,
   "metadata": {},
   "outputs": [
    {
     "name": "stdout",
     "output_type": "stream",
     "text": [
      "For Halley's comet...\n",
      " the distance to the aphelion is 5282214660876.441 m \n",
      " velocity is 906.681 m/s \n",
      " orbital period is 76.08170 years \n",
      " orbital eccentricity is 0.96729\n"
     ]
    }
   ],
   "source": [
    "print(\"For Halley's comet...\\n the distance to the aphelion is {:5.3f} m \\n velocity is {:5.3f} m/s \\n \\\n",
    "orbital period is {:5.5f} years \\n orbital eccentricity is {:5.5f}\"\\\n",
    "      .format(process(8.7830e10, 5.4529e4)[0],\\\n",
    "             process(8.7830e10, 5.4529e4)[1],\\\n",
    "             process(8.7830e10, 5.4529e4)[2],\\\n",
    "             process(8.7830e10, 5.4529e4)[3])) #Halley's numbers"
   ]
  },
  {
   "cell_type": "markdown",
   "metadata": {},
   "source": [
    "## CP 2.9 The Madelung constant\n",
    "\n",
    "The Madelung constant gives the electric potential in a solid based on the surrounding atoms. This is found by summing the potential due to all atoms as the number of atoms in all directions approaches infinity. The equation relating the Madelung constant to the total potential is\n",
    "\n",
    "$$V_\\textrm{total} = \\sum_{\\substack{i,j,k=-L\\\\ \\textrm{not }i=j=k=0}}^L\n",
    "                   \\hspace{-0.5em} V(i,j,k)\n",
    "                 = {e\\over4\\pi\\epsilon_0 a}\\,M.$$\n",
    "                 \n",
    "Thus, we can write (omitting the conditions of the sum for brevity)\n",
    "\n",
    "$$M = \\sum V(i,j,k) \\ \\frac{4\\pi\\epsilon_0 a}{e} = \\sum \\pm {e\\over4\\pi\\epsilon_0 a\\sqrt{i^2+j^2+k^2}} \\ \\frac{4\\pi\\epsilon_0 a}{e} = \\pm\\frac{1}{\\sqrt{i^2+j^2+k^2}}.$$\n",
    "\n",
    "This allows us to see that the Madelung constant M (for the case where each atom is of unit charge) does not depend on anything other than the relative positions of the atoms to each other, i.e., the spacing between adjacent atoms does not affect its value."
   ]
  },
  {
   "cell_type": "code",
   "execution_count": 239,
   "metadata": {},
   "outputs": [],
   "source": [
    "def Madelung(L):\n",
    "    '''The entire function for finding the Madelung constant for sodium chloride.\n",
    "       L is the number of atoms extending from origin'''\n",
    "    sum = 0\n",
    "    \n",
    "    for i in range(-L, L):\n",
    "        for j in range(-L, L):\n",
    "            for k in range(-L, L):\n",
    "                if i == 0 and j == 0 and k == 0:\n",
    "                    pass\n",
    "                else:\n",
    "                    if (i + j + k) % 2 == 0: #adds all the potentials from sodium atoms\n",
    "                        sum += -1 / (sqrt(i**2 + j**2 + k**2))\n",
    "                    elif (i + j + k) % 2 == 1: #adds all the potentials from chlorine atoms\n",
    "                        sum += +1 / (sqrt(i**2 + j**2 + k**2))\n",
    "                \n",
    "    return sum"
   ]
  },
  {
   "cell_type": "code",
   "execution_count": 240,
   "metadata": {},
   "outputs": [
    {
     "name": "stdout",
     "output_type": "stream",
     "text": [
      "The Madelung constant for L = 10 is 1.748. \n",
      "\n",
      "The Madelung constant for L =100 is 1.748. \n",
      "\n",
      "CPU times: user 13.1 s, sys: 181 ms, total: 13.2 s\n",
      "Wall time: 15.3 s\n"
     ]
    }
   ],
   "source": [
    "%%time\n",
    "\n",
    "Ls = [10, 100] #values of L to calculate the Madelung constant for\n",
    "\n",
    "[print(\"The Madelung constant for L ={:3.0f} is {:1.3f}. \\n\".format(x, Madelung(x))) for x in Ls]"
   ]
  },
  {
   "cell_type": "markdown",
   "metadata": {},
   "source": [
    "## CP 3.6 Deterministic chaos and the Feigenbaum plot\n",
    "\n",
    "For certain values of $r$ in the logistic equation\n",
    "\n",
    "$$x' = rx(1-x),$$\n",
    "\n",
    "the iterative map of the results will appear to be random. This is deterministic chaos."
   ]
  },
  {
   "cell_type": "code",
   "execution_count": 241,
   "metadata": {},
   "outputs": [],
   "source": [
    "#the logistic map function\n",
    "\n",
    "def logistic(r, x):\n",
    "    return r * x * (1-x)"
   ]
  },
  {
   "cell_type": "code",
   "execution_count": 242,
   "metadata": {},
   "outputs": [
    {
     "data": {
      "text/plain": [
       "[<matplotlib.lines.Line2D at 0x11c23f438>]"
      ]
     },
     "execution_count": 242,
     "metadata": {},
     "output_type": "execute_result"
    },
    {
     "data": {
      "image/png": "[encoded data removed]",
      "text/plain": [
       "<matplotlib.figure.Figure at 0x11c23ffd0>"
      ]
     },
     "metadata": {
      "image/png": {
       "height": 250,
       "width": 379
      }
     },
     "output_type": "display_data"
    }
   ],
   "source": [
    "#x = np.linspace(0, 1, 100)\n",
    "fig, axis = pyplot.subplots(1, 1)\n",
    "axis.plot(x, logistic(2, x), 'ko')"
   ]
  },
  {
   "cell_type": "code",
   "execution_count": 243,
   "metadata": {},
   "outputs": [],
   "source": [
    "#for a single value of r, starts with x and iterates a certain number of times\n",
    "def iterate(r, N):\n",
    "    '''applies logistic map with N iterations to starting value of xi for increasing r'''\n",
    "    \n",
    "    fig, figplot = pyplot.subplots(1, 1, figsize = (7, 7))\n",
    "    figplot.set_title(\"Feigenbaum Plot\")\n",
    "    \n",
    "    xi = 0.5 #starting value of x    \n",
    "    \n",
    "    for i in range(N):\n",
    "        step = logistic(r, xi) #utilizes logistic map function to find output\n",
    "        if i - 1000 >= 0:\n",
    "            figplot.plot(r, step, ',k')\n",
    "            \n",
    "        xi = step #with this, the output of logistic will become the next input"
   ]
  },
  {
   "cell_type": "code",
   "execution_count": 244,
   "metadata": {},
   "outputs": [
    {
     "data": {
      "image/png": "[encoded data removed]",
      "text/plain": [
       "<matplotlib.figure.Figure at 0x11c61c6d8>"
      ]
     },
     "metadata": {
      "image/png": {
       "height": 426,
       "width": 429
      }
     },
     "output_type": "display_data"
    }
   ],
   "source": [
    "r = np.linspace(1, 4, 400) #array of possible r valus\n",
    "iterate(r, 2000) #calls function"
   ]
  },
  {
   "cell_type": "markdown",
   "metadata": {},
   "source": [
    "a) For a given r on the Feigenbaum Plot, you get a fixed point if there is only a single x value corresponding to it. Likewise you can read off a limit cycle if there are multiple (but countable) x values to read off after branches. Chaos corresponds to an infinite amount of possible x values, and can be seen as the darker, almost fully-shaded regions.\n",
    "\n",
    "b) The edge of chaos appears to be at r = 3.5. The logistic map transitions from a fixed point to limit cycles at r = 3.0 and splits into double the number of branches a few times before r = 3.5. After this, you start to see full shading along a vertical line passing through a given r value."
   ]
  },
  {
   "cell_type": "markdown",
   "metadata": {},
   "source": [
    "## CP 3.7 The Mandelbrot set\n",
    "\n",
    "Like the logistic map, the Mandelbrot set is recursively applied. If after some large number of iterations, $|z'| < 2$ for every one of the iterations, then that point is in the set."
   ]
  },
  {
   "cell_type": "code",
   "execution_count": 245,
   "metadata": {},
   "outputs": [],
   "source": [
    "def mandelbrot(z, c): #defines the mandelbrot function\n",
    "    return pow(z, 2) + c"
   ]
  },
  {
   "cell_type": "code",
   "execution_count": 246,
   "metadata": {},
   "outputs": [],
   "source": [
    "def plot_mandelbrot(N, threshold, grid):\n",
    "    '''This function will iterate the mandelbrot function <N> times,\n",
    "       compare the magnitude of the resulting complex number to <threshold>,\n",
    "       then plot values under the threshold on a specified size <grid>.'''\n",
    "\n",
    "    #fig, ax = pyplot.subplots(1, 1, figsize = (10, 10))\n",
    "    #ax.imshow(-----)\n",
    "    x, y = np.ogrid[-2:2:1j*grid, -2:2:1j*grid] #creates the grid\n",
    "\n",
    "    c = x + y*1j #defines c as a complex number based on location on grid\n",
    "    z = 0 #starting value of z\n",
    "    \n",
    "    #iterates Mandelbrot function set number of times\n",
    "    for i in range(N):\n",
    "        z = mandelbrot(z, c)\n",
    "    #[z = mandelbrot(z, c) for i in range(N)] \n",
    "    \n",
    "    #the values that are in the Mandelbrot set\n",
    "    inset = np.abs(z) < threshold\n",
    "    \n",
    "    pyplot.imshow(inset.T, extent = [-2, 2, -2, 2], aspect = 'equal')# ,cmap = 'jet')\n",
    "    #pyplot.gray\n",
    "    #ax = pyplot.figure(figsize = (10,10))\n",
    "    \n",
    "    color = np.ogrid[-2:2:1j*grid, -2:2:1j*grid] #initializing array for colors\n",
    "    \n",
    "    pyplot.show()"
   ]
  },
  {
   "cell_type": "code",
   "execution_count": 247,
   "metadata": {},
   "outputs": [
    {
     "name": "stderr",
     "output_type": "stream",
     "text": [
      "/Users/Varun/anaconda/lib/python3.6/site-packages/ipykernel_launcher.py:2: RuntimeWarning: overflow encountered in square\n",
      "  \n",
      "/Users/Varun/anaconda/lib/python3.6/site-packages/ipykernel_launcher.py:2: RuntimeWarning: invalid value encountered in square\n",
      "  \n",
      "/Users/Varun/anaconda/lib/python3.6/site-packages/ipykernel_launcher.py:19: RuntimeWarning: invalid value encountered in less\n"
     ]
    },
    {
     "data": {
      "image/png": "[encoded data removed]",
      "text/plain": [
       "<matplotlib.figure.Figure at 0x11c307b38>"
      ]
     },
     "metadata": {
      "image/png": {
       "height": 252,
       "width": 266
      }
     },
     "output_type": "display_data"
    }
   ],
   "source": [
    "plot_mandelbrot(100, 2, 4000)"
   ]
  }
 ],
 "metadata": {
  "kernelspec": {
   "display_name": "Python 3",
   "language": "python",
   "name": "python3"
  },
  "language_info": {
   "codemirror_mode": {
    "name": "ipython",
    "version": 3
   },
   "file_extension": ".py",
   "mimetype": "text/x-python",
   "name": "python",
   "nbconvert_exporter": "python",
   "pygments_lexer": "ipython3",
   "version": "3.6.8"
  }
 },
 "nbformat": 4,
 "nbformat_minor": 2
}
